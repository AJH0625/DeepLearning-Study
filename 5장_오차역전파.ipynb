{
  "nbformat": 4,
  "nbformat_minor": 0,
  "metadata": {
    "colab": {
      "name": "5장-오차역전파.ipynb",
      "provenance": [],
      "authorship_tag": "ABX9TyOxpwWwWU4HIIcsYZfbdKzM",
      "include_colab_link": true
    },
    "kernelspec": {
      "name": "python3",
      "display_name": "Python 3"
    },
    "language_info": {
      "name": "python"
    }
  },
  "cells": [
    {
      "cell_type": "markdown",
      "metadata": {
        "id": "view-in-github",
        "colab_type": "text"
      },
      "source": [
        "<a href=\"https://colab.research.google.com/github/AJH0625/DeepLearning-Study/blob/main/5%EC%9E%A5_%EC%98%A4%EC%B0%A8%EC%97%AD%EC%A0%84%ED%8C%8C.ipynb\" target=\"_parent\"><img src=\"https://colab.research.google.com/assets/colab-badge.svg\" alt=\"Open In Colab\"/></a>"
      ]
    },
    {
      "cell_type": "markdown",
      "metadata": {
        "id": "quFR9dvMTM7L"
      },
      "source": [
        "##5.4.1 곱셈계층"
      ]
    },
    {
      "cell_type": "code",
      "metadata": {
        "id": "SkAIUPkPWoyz"
      },
      "source": [
        "import numpy as np"
      ],
      "execution_count": 14,
      "outputs": []
    },
    {
      "cell_type": "code",
      "metadata": {
        "id": "Qlo_JRChRSsE"
      },
      "source": [
        "class MulLayer:\n",
        "  def __init__(self):\n",
        "    self.x = None\n",
        "    self.y = None\n",
        "\n",
        "  def forward(self,x,y):\n",
        "    self.x=x\n",
        "    self.y=y\n",
        "    out=x*y\n",
        "\n",
        "    return out\n",
        "\n",
        "  def backward(self,dout):\n",
        "    dx = dout*self.y\n",
        "    dy = dout*self.x\n",
        "\n",
        "    return dx, dy"
      ],
      "execution_count": 1,
      "outputs": []
    },
    {
      "cell_type": "code",
      "metadata": {
        "colab": {
          "base_uri": "https://localhost:8080/"
        },
        "id": "kbF6qHu9TzUe",
        "outputId": "cf4195b2-584a-4a55-c573-abca6bb3cef7"
      },
      "source": [
        "apple = 100\n",
        "apple_num = 2\n",
        "tax = 1.1\n",
        "\n",
        "#계층들\n",
        "mul_apple_layer=MulLayer()\n",
        "mul_tax_layer=MulLayer()\n",
        "\n",
        "#순전파\n",
        "apple_price=mul_apple_layer.forward(apple, apple_num)\n",
        "price=mul_tax_layer.forward(apple_price, tax)\n",
        "\n",
        "print(price)\n",
        "\n",
        "#역전파\n",
        "dprice=1\n",
        "dapple_price, dtax = mul_tax_layer.backward(dprice)\n",
        "dapple, dapple_num = mul_apple_layer.backward(dapple_price)\n",
        "\n",
        "print(dapple, dapple_num, dtax)"
      ],
      "execution_count": 4,
      "outputs": [
        {
          "output_type": "stream",
          "text": [
            "220.00000000000003\n",
            "2.2 110.00000000000001 200\n"
          ],
          "name": "stdout"
        }
      ]
    },
    {
      "cell_type": "markdown",
      "metadata": {
        "id": "8i4EwNr-Uabn"
      },
      "source": [
        "##5.4.2 덧셈 계층"
      ]
    },
    {
      "cell_type": "code",
      "metadata": {
        "id": "EXXutphbURER"
      },
      "source": [
        "class AddLayer:\n",
        "  def __init__(self):\n",
        "    pass\n",
        "  \n",
        "  def forward(self,x,y):\n",
        "    out=x+y\n",
        "    return out\n",
        "\n",
        "  def backward(self, dout):\n",
        "    dx = dout*1\n",
        "    dy = dout*1\n",
        "    return dx*dy"
      ],
      "execution_count": 5,
      "outputs": []
    },
    {
      "cell_type": "code",
      "metadata": {
        "colab": {
          "base_uri": "https://localhost:8080/"
        },
        "id": "d5i5SLXAUrH_",
        "outputId": "2f46db37-d61a-4b13-99c4-1efcfa14c7a3"
      },
      "source": [
        "apple = 100\n",
        "apple_num = 2\n",
        "orange = 150\n",
        "orange_num = 3\n",
        "tax = 1.1\n",
        "\n",
        "#계층들\n",
        "mul_apple_layer = MulLayer()\n",
        "mul_orange_layer = MulLayer()\n",
        "add_apple_orange_layer = AddLayer()\n",
        "mul_tax_layer = MulLayer()\n",
        "\n",
        "#순전파\n",
        "apple_price = mul_apple_layer.forward(apple, apple_num)\n",
        "orange_price = mul_orange_layer.forward(orange, orange_num)\n",
        "all_price = add_apple_orange_layer.forward(apple_price, orange_price)\n",
        "price = mul_tax_layer.forward(all_price, tax)\n",
        "\n",
        "#역전파\n",
        "dprice = 1\n",
        "dall_price, dtax = mul_tax_layer.backward(dprice)\n",
        "dapple_price= dorange_price = add_apple_orange_layer.backward(dall_price)\n",
        "dorange, dorange_num = mul_orange_layer.backward(dorange_price)\n",
        "dapple, dapple_num = mul_apple_layer.backward(dapple_price)\n",
        "\n",
        "print(price)\n",
        "print(dapple_num, dapple, dorange, dorange_num, dtax)"
      ],
      "execution_count": 8,
      "outputs": [
        {
          "output_type": "stream",
          "text": [
            "715.0000000000001\n",
            "121.00000000000001 2.4200000000000004 3.630000000000001 181.50000000000003 650\n"
          ],
          "name": "stdout"
        }
      ]
    },
    {
      "cell_type": "markdown",
      "metadata": {
        "id": "4FbWSdEQWChA"
      },
      "source": [
        "##5.5.1 ReLU 계층"
      ]
    },
    {
      "cell_type": "code",
      "metadata": {
        "id": "Nm9JnHcmWFNZ"
      },
      "source": [
        "class Relu:\n",
        "  def __init__(self):\n",
        "    self.mask=None\n",
        "\n",
        "  def forward(self,x):\n",
        "    self.mask = (x<=0)\n",
        "    out = x.copy()\n",
        "    out[self.mask]=0\n",
        "\n",
        "    return out\n",
        "\n",
        "  def backward(self, dout):\n",
        "    dout[self.mask]=0\n",
        "    dx=dout\n",
        "\n",
        "    return dx"
      ],
      "execution_count": 11,
      "outputs": []
    },
    {
      "cell_type": "code",
      "metadata": {
        "colab": {
          "base_uri": "https://localhost:8080/"
        },
        "id": "cdv8Rs04WV67",
        "outputId": "5332c4d4-88e5-4d39-8bc2-01689b307bf7"
      },
      "source": [
        "x=np.array([[1.0, -0.5],[-2.0,3.0]])\n",
        "print(x)\n",
        "\n",
        "mask=(x<=0)\n",
        "print(mask)"
      ],
      "execution_count": 15,
      "outputs": [
        {
          "output_type": "stream",
          "text": [
            "[[ 1.  -0.5]\n",
            " [-2.   3. ]]\n",
            "[[False  True]\n",
            " [ True False]]\n"
          ],
          "name": "stdout"
        }
      ]
    },
    {
      "cell_type": "markdown",
      "metadata": {
        "id": "-l29Y2kxWvIR"
      },
      "source": [
        "##5.5.2 Sigmoid 계층"
      ]
    },
    {
      "cell_type": "code",
      "metadata": {
        "id": "TZWob2KFWw9w"
      },
      "source": [
        "class Sigmoid:\n",
        "  def __init__(self):\n",
        "    self.out = None\n",
        "  def forward(self, x):\n",
        "    out = 1 / (1 + np.exp(-x))\n",
        "    self.out = out\n",
        "\n",
        "    return out\n",
        "\n",
        "  def backward(self, dout):\n",
        "    dx = dout*(1.0 - self.out)*self.out\n",
        "\n",
        "    return dx"
      ],
      "execution_count": 16,
      "outputs": []
    },
    {
      "cell_type": "markdown",
      "metadata": {
        "id": "lbAYYqH6XBeF"
      },
      "source": [
        "##5.6.1 Affine 계층"
      ]
    },
    {
      "cell_type": "code",
      "metadata": {
        "id": "eTGAgEwcXDhV"
      },
      "source": [
        "X=np.random.rand(2)\n",
        "W=np.random.rand(2,3)\n",
        "B=np.random.rand(3)\n",
        "\n",
        "X.shape\n",
        "W.shape\n",
        "B.shape\n",
        "\n",
        "Y=np.dot(X,W)+B"
      ],
      "execution_count": 18,
      "outputs": []
    },
    {
      "cell_type": "markdown",
      "metadata": {
        "id": "JanZ5-GRYZv2"
      },
      "source": [
        "##5.6.2 배치용 Affine 계층"
      ]
    },
    {
      "cell_type": "code",
      "metadata": {
        "colab": {
          "base_uri": "https://localhost:8080/"
        },
        "id": "IzgcdZbrYb6N",
        "outputId": "a3cffcf8-8ede-44cc-84d6-887e880759ad"
      },
      "source": [
        "X_dot_W = np.array([[0,0,0],[10,10,10]])\n",
        "B=np.array([1,2,3])\n",
        "\n",
        "X_dot_W\n",
        "X_dot_W+B"
      ],
      "execution_count": 19,
      "outputs": [
        {
          "output_type": "execute_result",
          "data": {
            "text/plain": [
              "array([[ 1,  2,  3],\n",
              "       [11, 12, 13]])"
            ]
          },
          "metadata": {
            "tags": []
          },
          "execution_count": 19
        }
      ]
    },
    {
      "cell_type": "code",
      "metadata": {
        "colab": {
          "base_uri": "https://localhost:8080/"
        },
        "id": "z1Q6WArwYnxU",
        "outputId": "822ac043-32a8-47d7-93ec-26323b745131"
      },
      "source": [
        "dY=np.array([[1,2,3],[4,5,6]])\n",
        "dY\n",
        "dB=np.sum(dY, axis=0)\n",
        "dB"
      ],
      "execution_count": 20,
      "outputs": [
        {
          "output_type": "execute_result",
          "data": {
            "text/plain": [
              "array([5, 7, 9])"
            ]
          },
          "metadata": {
            "tags": []
          },
          "execution_count": 20
        }
      ]
    },
    {
      "cell_type": "code",
      "metadata": {
        "id": "8vnrCYc_Yw1L"
      },
      "source": [
        "class Affine:\n",
        "  def __init__(self, W,b):\n",
        "    self.W=W\n",
        "    self.b=b\n",
        "    self.x=None\n",
        "    self.dW=None\n",
        "    self.db=None\n",
        "  \n",
        "  def forward(self,x):\n",
        "    self.x=x\n",
        "    out=np.dot(x, self.W) + self.b\n",
        "\n",
        "    return out\n",
        "\n",
        "  def backward(self, dout):\n",
        "    dx = np.dout(dout, self.W.T)\n",
        "    self.dW = np.dot(self.x.T, dout)\n",
        "    self.db = np.sum(dout, axis=0)\n",
        "\n",
        "    return dx"
      ],
      "execution_count": 21,
      "outputs": []
    },
    {
      "cell_type": "markdown",
      "metadata": {
        "id": "hlgjrDYgZOtZ"
      },
      "source": [
        "##5.6.3 Softmax-with-Loss 계층"
      ]
    },
    {
      "cell_type": "code",
      "metadata": {
        "id": "_JUpVbfrZRHF"
      },
      "source": [
        "class SoftmaxWithLoss:\n",
        "  def __init__(self):\n",
        "    self.loss = None\n",
        "    self.y=None\n",
        "    self.t=None\n",
        "\n",
        "  def forward(self,x,t):\n",
        "    self.t=t\n",
        "    self.y=softmax(x)\n",
        "    self.loss=cross_entropy_error(self.y, self.t)\n",
        "    return self.loss\n",
        "\n",
        "  def backward(self, dout=1):\n",
        "    batch_size = self.t.shape[0]\n",
        "    dx= (self.y=self.t) / batch_size\n",
        "\n",
        "    return dx"
      ],
      "execution_count": null,
      "outputs": []
    }
  ]
}