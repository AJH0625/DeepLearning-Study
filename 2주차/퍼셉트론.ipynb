{
  "nbformat": 4,
  "nbformat_minor": 0,
  "metadata": {
    "colab": {
      "name": "퍼셉트론.ipynb",
      "provenance": [],
      "collapsed_sections": [],
      "authorship_tag": "ABX9TyMvfd9ZZWg7eNNFZS/am1UG",
      "include_colab_link": true
    },
    "kernelspec": {
      "name": "python3",
      "display_name": "Python 3"
    }
  },
  "cells": [
    {
      "cell_type": "markdown",
      "metadata": {
        "id": "view-in-github",
        "colab_type": "text"
      },
      "source": [
        "<a href=\"https://colab.research.google.com/github/AJH0625/DeepLearning-Study/blob/main/2%EC%A3%BC%EC%B0%A8/%ED%8D%BC%EC%85%89%ED%8A%B8%EB%A1%A0.ipynb\" target=\"_parent\"><img src=\"https://colab.research.google.com/assets/colab-badge.svg\" alt=\"Open In Colab\"/></a>"
      ]
    },
    {
      "cell_type": "markdown",
      "metadata": {
        "id": "d9-DG_uizFVn"
      },
      "source": [
        "##2.3.1 간단한 퍼셉트론 구현"
      ]
    },
    {
      "cell_type": "code",
      "metadata": {
        "id": "MlTp_KA8bZZO"
      },
      "source": [
        "import numpy as np"
      ],
      "execution_count": 2,
      "outputs": []
    },
    {
      "cell_type": "code",
      "metadata": {
        "colab": {
          "base_uri": "https://localhost:8080/"
        },
        "id": "xl-jw1bGu03h",
        "outputId": "d3119bb5-0fc5-4389-dea8-e9e54b8f4af2"
      },
      "source": [
        "def AND(x1, x2):\r\n",
        "  w1, w2, theta = 0.5, 0.5, 0.7\r\n",
        "  tmp = x1*w1 + x2*w2\r\n",
        "  if tmp <= theta:\r\n",
        "    return 0\r\n",
        "  elif tmp > theta:\r\n",
        "    return 1\r\n",
        "\r\n",
        "AND(0,0)"
      ],
      "execution_count": 3,
      "outputs": [
        {
          "output_type": "execute_result",
          "data": {
            "text/plain": [
              "0"
            ]
          },
          "metadata": {
            "tags": []
          },
          "execution_count": 3
        }
      ]
    },
    {
      "cell_type": "code",
      "metadata": {
        "colab": {
          "base_uri": "https://localhost:8080/"
        },
        "id": "Nih7ysTZbc7Y",
        "outputId": "447d7eda-eedd-44c5-b336-696000d3833a"
      },
      "source": [
        "AND(1,0)"
      ],
      "execution_count": 4,
      "outputs": [
        {
          "output_type": "execute_result",
          "data": {
            "text/plain": [
              "0"
            ]
          },
          "metadata": {
            "tags": []
          },
          "execution_count": 4
        }
      ]
    },
    {
      "cell_type": "code",
      "metadata": {
        "colab": {
          "base_uri": "https://localhost:8080/"
        },
        "id": "rwzu0dr5bede",
        "outputId": "26c219f8-14d2-45c6-e24a-b60ae64b08fc"
      },
      "source": [
        "AND(0,1)"
      ],
      "execution_count": 5,
      "outputs": [
        {
          "output_type": "execute_result",
          "data": {
            "text/plain": [
              "0"
            ]
          },
          "metadata": {
            "tags": []
          },
          "execution_count": 5
        }
      ]
    },
    {
      "cell_type": "code",
      "metadata": {
        "colab": {
          "base_uri": "https://localhost:8080/"
        },
        "id": "cRyPDlRAbf38",
        "outputId": "f1cb3ae6-369c-4fe2-c47b-acf4c2123528"
      },
      "source": [
        "AND(1,1)"
      ],
      "execution_count": 6,
      "outputs": [
        {
          "output_type": "execute_result",
          "data": {
            "text/plain": [
              "1"
            ]
          },
          "metadata": {
            "tags": []
          },
          "execution_count": 6
        }
      ]
    },
    {
      "cell_type": "markdown",
      "metadata": {
        "id": "KKbm4FbqzMZs"
      },
      "source": [
        "##2.3.2 가중치와 편향 도입"
      ]
    },
    {
      "cell_type": "code",
      "metadata": {
        "colab": {
          "base_uri": "https://localhost:8080/"
        },
        "id": "nBYSHeK1zMLo",
        "outputId": "f674e708-cd89-40ea-df6d-4b7eb46af32e"
      },
      "source": [
        "x = np.array([0,1])\r\n",
        "w = np.array([0.5, 0.5])\r\n",
        "b = -0.7\r\n",
        "w*x\r\n",
        "np.sum(w*x)\r\n",
        "np.sum(w*x)+b"
      ],
      "execution_count": 7,
      "outputs": [
        {
          "output_type": "execute_result",
          "data": {
            "text/plain": [
              "-0.19999999999999996"
            ]
          },
          "metadata": {
            "tags": []
          },
          "execution_count": 7
        }
      ]
    },
    {
      "cell_type": "markdown",
      "metadata": {
        "id": "Zq0QuAhVzxXM"
      },
      "source": [
        "##2.3.3 가중치와 편향 구현하기"
      ]
    },
    {
      "cell_type": "code",
      "metadata": {
        "id": "avgri2h9z0SV"
      },
      "source": [
        "# AND 게이트\r\n",
        "def AND(x1, x2):\r\n",
        "  x = np.array([x1,x2])\r\n",
        "  w= np.array([0.5, 0.5])\r\n",
        "  b= -0.7\r\n",
        "  tmp = np.sum(w*x) + b\r\n",
        "  if tmp <= 0:\r\n",
        "    return 0\r\n",
        "  else : \r\n",
        "    return 1"
      ],
      "execution_count": 12,
      "outputs": []
    },
    {
      "cell_type": "code",
      "metadata": {
        "id": "0EhkwIBR0X-y"
      },
      "source": [
        "# NAND 게이트\r\n",
        "def NAND(x1, x2):\r\n",
        "  x = np.array([x1, x2])\r\n",
        "  w = np.array([-0.5, -0.5])\r\n",
        "  b = 0.7\r\n",
        "  tmp = np.sum(w*x)+b\r\n",
        "  if tmp <= 0:\r\n",
        "    return 0\r\n",
        "  else :\r\n",
        "    return 1"
      ],
      "execution_count": 13,
      "outputs": []
    },
    {
      "cell_type": "code",
      "metadata": {
        "id": "RmirnWyIcNex"
      },
      "source": [
        "# OR 게이트\r\n",
        "def OR(x1, x2):\r\n",
        "  x = np.array([x1, x2])\r\n",
        "  w = np.array([0.5, 0.5])\r\n",
        "  b = -0.2\r\n",
        "  tmp = np.sum(w*x) + b\r\n",
        "  if tmp <=0:\r\n",
        "   return 0\r\n",
        "  else:\r\n",
        "    return 1"
      ],
      "execution_count": 14,
      "outputs": []
    },
    {
      "cell_type": "markdown",
      "metadata": {
        "id": "3S3gPI2D3vhI"
      },
      "source": [
        "##2.5.2 XOR 게이트 구현하기"
      ]
    },
    {
      "cell_type": "code",
      "metadata": {
        "colab": {
          "base_uri": "https://localhost:8080/"
        },
        "id": "QcveVAB43yLP",
        "outputId": "0dae55a3-cf3f-4e20-f3a7-cbb92a2de3ff"
      },
      "source": [
        "def XOR(x1, x2):\r\n",
        "  s1 = NAND(x1, x2)\r\n",
        "  s2 = OR(x1, x2)\r\n",
        "  y = AND(s1, s2)\r\n",
        "  return y\r\n",
        "\r\n",
        "XOR(0,0)"
      ],
      "execution_count": 16,
      "outputs": [
        {
          "output_type": "execute_result",
          "data": {
            "text/plain": [
              "0"
            ]
          },
          "metadata": {
            "tags": []
          },
          "execution_count": 16
        }
      ]
    },
    {
      "cell_type": "code",
      "metadata": {
        "colab": {
          "base_uri": "https://localhost:8080/"
        },
        "id": "qQytRO77cY_l",
        "outputId": "cb4a4cb0-db09-4cfb-f1f9-c9ec0c8a178a"
      },
      "source": [
        "XOR(0,1)"
      ],
      "execution_count": 17,
      "outputs": [
        {
          "output_type": "execute_result",
          "data": {
            "text/plain": [
              "1"
            ]
          },
          "metadata": {
            "tags": []
          },
          "execution_count": 17
        }
      ]
    },
    {
      "cell_type": "code",
      "metadata": {
        "colab": {
          "base_uri": "https://localhost:8080/"
        },
        "id": "J9HAcbdtcaIu",
        "outputId": "4ad90115-4eb1-48cc-9fb9-834843a1e788"
      },
      "source": [
        "XOR(1,0)"
      ],
      "execution_count": 18,
      "outputs": [
        {
          "output_type": "execute_result",
          "data": {
            "text/plain": [
              "1"
            ]
          },
          "metadata": {
            "tags": []
          },
          "execution_count": 18
        }
      ]
    },
    {
      "cell_type": "code",
      "metadata": {
        "colab": {
          "base_uri": "https://localhost:8080/"
        },
        "id": "k0IpdgM_ca5_",
        "outputId": "e0ed52cd-bcde-4281-cf3d-ac429e10a811"
      },
      "source": [
        "XOR(1,1)"
      ],
      "execution_count": 19,
      "outputs": [
        {
          "output_type": "execute_result",
          "data": {
            "text/plain": [
              "0"
            ]
          },
          "metadata": {
            "tags": []
          },
          "execution_count": 19
        }
      ]
    },
    {
      "cell_type": "markdown",
      "metadata": {
        "id": "_sW4frfkcjSh"
      },
      "source": [
        "##과제 - XNOR 게이트 구현하기"
      ]
    },
    {
      "cell_type": "code",
      "metadata": {
        "colab": {
          "base_uri": "https://localhost:8080/"
        },
        "id": "vZwGoy5YclzL",
        "outputId": "2a69c962-e153-4f43-e87d-056967d4d38f"
      },
      "source": [
        "def XNOR(x1,x2):\r\n",
        "  s1 = NAND(x1, x2)\r\n",
        "  s2 = OR(x1, x2)\r\n",
        "  y= NAND(s1, s2)\r\n",
        "  return y\r\n",
        "\r\n",
        "XNOR(0,0)"
      ],
      "execution_count": 20,
      "outputs": [
        {
          "output_type": "execute_result",
          "data": {
            "text/plain": [
              "1"
            ]
          },
          "metadata": {
            "tags": []
          },
          "execution_count": 20
        }
      ]
    },
    {
      "cell_type": "code",
      "metadata": {
        "colab": {
          "base_uri": "https://localhost:8080/"
        },
        "id": "x-0G3rR4dn5b",
        "outputId": "54be933f-5cd7-43dd-dab6-5b38c38b11c8"
      },
      "source": [
        "XNOR(0,1)"
      ],
      "execution_count": 21,
      "outputs": [
        {
          "output_type": "execute_result",
          "data": {
            "text/plain": [
              "0"
            ]
          },
          "metadata": {
            "tags": []
          },
          "execution_count": 21
        }
      ]
    },
    {
      "cell_type": "code",
      "metadata": {
        "colab": {
          "base_uri": "https://localhost:8080/"
        },
        "id": "jY5YsA8DdpQI",
        "outputId": "0d4a78b2-78fe-4c4f-ae9a-4ee55a7cb39f"
      },
      "source": [
        "XNOR(1,0)"
      ],
      "execution_count": 22,
      "outputs": [
        {
          "output_type": "execute_result",
          "data": {
            "text/plain": [
              "0"
            ]
          },
          "metadata": {
            "tags": []
          },
          "execution_count": 22
        }
      ]
    },
    {
      "cell_type": "code",
      "metadata": {
        "colab": {
          "base_uri": "https://localhost:8080/"
        },
        "id": "YfjQJ5i3dq59",
        "outputId": "eeda3f06-aac8-4528-ca5e-f5cc39caa8d9"
      },
      "source": [
        "XNOR(1,1)"
      ],
      "execution_count": 23,
      "outputs": [
        {
          "output_type": "execute_result",
          "data": {
            "text/plain": [
              "1"
            ]
          },
          "metadata": {
            "tags": []
          },
          "execution_count": 23
        }
      ]
    }
  ]
}